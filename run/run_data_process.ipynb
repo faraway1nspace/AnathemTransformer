{
  "nbformat": 4,
  "nbformat_minor": 0,
  "metadata": {
    "colab": {
      "provenance": [],
      "authorship_tag": "ABX9TyO/O5WXYmgPi5+iRTSnx6gM"
    },
    "kernelspec": {
      "name": "python3",
      "display_name": "Python 3"
    },
    "language_info": {
      "name": "python"
    }
  },
  "cells": [
    {
      "cell_type": "markdown",
      "source": [
        "## Data for Anathem Transformer: Fetch and Preprocess\n",
        "Various big datasets on Huggingface for multi-tasks:\n",
        "- MLM task\n",
        "- next sentence prediction\n",
        "- NLI\n",
        "- QA\n",
        "- STS\n",
        "- Retrieval\n",
        "\n",
        "These are saved for loading latter during gradient descent\n"
      ],
      "metadata": {
        "id": "wEoJ2hvopWxN"
      }
    },
    {
      "cell_type": "code",
      "source": [],
      "metadata": {
        "id": "BW-PBpUwpu_f"
      },
      "execution_count": null,
      "outputs": []
    }
  ]
}